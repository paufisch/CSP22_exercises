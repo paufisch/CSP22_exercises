{
 "cells": [
  {
   "cell_type": "markdown",
   "id": "b74f26c9",
   "metadata": {},
   "source": [
    "# Exercise 6: Supervised learning for 2D Ising model\n",
    "Before working on this notebook, generate 2D Ising data at several temperatures and save it to file. You should have written a 2D Ising simulation by now, reuse that code. Else, you may adapt one of the solutions to carry out this task.\n",
    "\n",
    "One possibility is to stringify a configuration by concatenating the rows, e.g. the configuration\n",
    "<table>\n",
    "  <tr>\n",
    "    <td>1</td>\n",
    "    <td>-1</td>\n",
    "    <td>1</td>\n",
    "  </tr>\n",
    "  <tr>\n",
    "    <td>-1</td>\n",
    "    <td>1</td>\n",
    "    <td>1</td>\n",
    "  </tr>\n",
    "  <tr>\n",
    "    <td>1</td>\n",
    "    <td>1</td>\n",
    "    <td>1</td>\n",
    "  </tr>\n",
    "</table> \n",
    "\n",
    "could become the string \"1 1 1 -1 1 1 1 -1 1\". Then store all generated configurations in one file, and the temperatures corresponding to the different lines in a different file.\n",
    "\n",
    "Generate \"training\" data from ~20 different temperatures, ~1000 configurations per temperature, and \"verification\" data from different (and potentially more) temperatures (also roughly 1000 configurations per temperature).\n",
    "\n",
    "Think about whether it makes a difference how you represent the data (e.g. what if we concatenate the rows in a different order?)."
   ]
  },
  {
   "cell_type": "markdown",
   "id": "2411423a",
   "metadata": {},
   "source": [
    "# Imports"
   ]
  },
  {
   "cell_type": "code",
   "execution_count": 1,
   "id": "6e408319",
   "metadata": {},
   "outputs": [
    {
     "name": "stdout",
     "output_type": "stream",
     "text": [
      "Init Plugin\n",
      "Init Graph Optimizer\n",
      "Init Kernel\n"
     ]
    }
   ],
   "source": [
    "from tensorflow.keras.models import Sequential\n",
    "#TODO: Add further imports here\n",
    "import pandas as pd\n",
    "import numpy as np\n",
    "import matplotlib.pyplot as plt\n",
    "from keras.layers import Dense"
   ]
  },
  {
   "cell_type": "markdown",
   "id": "15528e0b",
   "metadata": {},
   "source": [
    "# Loading the data"
   ]
  },
  {
   "cell_type": "code",
   "execution_count": 101,
   "id": "2c9ac700",
   "metadata": {},
   "outputs": [],
   "source": [
    "#TODO: Load your configurations for training and verification, as well as the corresponding temperatures here\n",
    "#For example, you could use np.loadtxt()\n",
    "df_train = pd.read_csv('training_set.csv')\n",
    "df_validation = pd.read_csv('validation_set.csv')\n",
    "\n",
    "training_set = df_train.to_numpy()[:,0:-1]#each row contain a stringified grid for a given temperature\n",
    "training_temp = df_train.to_numpy()[:,-1]#vector of corresponding temperatures for grid from above\n",
    "validation_set = df_validation.to_numpy()[:,0:-1]\n",
    "validation_temp = df_validation.to_numpy()[:,-1]"
   ]
  },
  {
   "cell_type": "markdown",
   "id": "b22fd566",
   "metadata": {},
   "source": [
    "# Sanity check the data"
   ]
  },
  {
   "cell_type": "code",
   "execution_count": null,
   "id": "bfabf6e8",
   "metadata": {},
   "outputs": [],
   "source": [
    "def plot_configuration(spins):\n",
    "    '''\n",
    "    This is a helper function to plot the configuration of spins given by 'spins'\n",
    "    \n",
    "    spins - an np.array of shape (N,N) with values in {-1, 1}\n",
    "    '''\n",
    "    N = np.shape(spins)[1]\n",
    "    fig, ax = plt.subplots()\n",
    "    #fig.add_axes()\n",
    "    ax = fig.axes[0]\n",
    "    for i in range(N):\n",
    "        ax.plot([i, i], [0,N-1], 'k')\n",
    "        ax.plot([0,N-1], [i,i], 'k')\n",
    "\n",
    "    colors = ['b', 'gold'] # note: blue is down, gold is up!\n",
    "    for i in range(N):\n",
    "        for j in range(N):\n",
    "            fig.gca().add_patch(plt.Circle((i,j), radius=0.35, fc=colors[int((spins[i,j]+1)/2.)]))\n",
    "   \n",
    "    ax.set_ylim(-1,N+1)\n",
    "    ax.set_xlim(-1,N+1)\n",
    "    ax.set_aspect('equal')\n",
    "    plt.axis('off')\n",
    "    plt.savefig('ising.png')\n",
    "    fig.show()"
   ]
  },
  {
   "cell_type": "code",
   "execution_count": null,
   "id": "184583cc",
   "metadata": {},
   "outputs": [],
   "source": [
    "#TODO: Use the above function (or one you write yourself) to check that the loaded configurations make sense\n",
    "\n",
    "test_grid = training_set[2001,:]\n",
    "test_grid = test_grid.reshape((30,30))\n",
    "print(f\"configuration for inverse temperature beta = {training_labels[2001]}\")\n",
    "plot_configuration(test_grid)"
   ]
  },
  {
   "cell_type": "markdown",
   "id": "8063c5f3",
   "metadata": {},
   "source": [
    "# Preprocessing the data\n",
    "In order for the data to be usable in training, you need to\n",
    "- Define a label coding. For an output layer with two neurons, you could code \"ordered phase\" as (1,0) and \"disordered phase\" as (0,1)\n",
    "- Generate two arrays x and y, such that x contains all configurations and y the corresponding labels, e.g. from {(1,0), (0,1)}. The result should be that the correct label of the configuration x[i] is y[i].\n",
    "- You may want to discard configurations close to the critical point (why?)"
   ]
  },
  {
   "cell_type": "code",
   "execution_count": 3,
   "metadata": {},
   "outputs": [],
   "source": [
    "#function which removes entries from array that are in the range [0.44-ϵ, 0.44+ϵ]\n",
    "def deletion(temp,grid,epsilon):\n",
    "    indicies = np.argwhere((temp >= 0.44-epsilon) & (temp <= 0.44+epsilon))\n",
    "    new_temp = np.delete(temp,indicies,0)\n",
    "    new_grid = np.delete(grid,indicies,0)\n",
    "    return new_temp, new_grid"
   ]
  },
  {
   "cell_type": "code",
   "execution_count": 106,
   "metadata": {},
   "outputs": [],
   "source": [
    "#function that creates labels\n",
    "#input: array of temperatures\n",
    "#output: array of same size as temp.-array with 0 if temp<0.44 and 1 if temp>0.44\n",
    "def labeler(temp_arr):\n",
    "    N = temp_arr.shape[0]\n",
    "    labels = np.zeros((N,2))\n",
    "    bigger_inidicies = np.argwhere(temp_arr > 0.44)\n",
    "    smaller_indicies = np.argwhere(temp_arr <= 0.44)\n",
    "    labels[bigger_inidicies,0] = 1\n",
    "    labels[smaller_indicies,1] = 1\n",
    "    return labels"
   ]
  },
  {
   "cell_type": "code",
   "execution_count": 107,
   "id": "42a5fd8d",
   "metadata": {},
   "outputs": [],
   "source": [
    "#TODO: Preprocess the data\n",
    "\"\"\"so our net should only learn if the grid is ordered or disordered?\"\"\"\n",
    "\n",
    "#exclude all samples that are to close to beta = 0.44 (within epsilon range)\n",
    "training_temp, training_set = deletion(training_temp,training_set,0.02)\n",
    "#validation_temp, validation_set = deletion(validation_temp,validation_set,0.02)\n",
    "\n",
    "#create labels\n",
    "training_labels = labeler(training_temp)\n",
    "validation_labels = labeler(validation_temp)"
   ]
  },
  {
   "cell_type": "markdown",
   "id": "a0047d13",
   "metadata": {},
   "source": [
    "# Construct and compile the network\n",
    "Here you construct the neural network. Follow the link given on the exercise sheet.\n",
    "\n",
    "Recommendation:\n",
    "- One hidden layer with 100 neurons and sigmoid activation, fully connected\n",
    "- Output layer with 2 neurons and softmax activation, fully connected\n",
    "\n",
    "Feel free to play around with the network setup!\n",
    "\n",
    "Finally, compile the network."
   ]
  },
  {
   "cell_type": "code",
   "execution_count": 6,
   "id": "b4aec7ff",
   "metadata": {},
   "outputs": [
    {
     "name": "stdout",
     "output_type": "stream",
     "text": [
      "Metal device set to: Apple M1 Pro\n"
     ]
    },
    {
     "name": "stderr",
     "output_type": "stream",
     "text": [
      "2022-04-12 16:29:26.095802: I tensorflow/core/common_runtime/pluggable_device/pluggable_device_factory.cc:305] Could not identify NUMA node of platform GPU ID 0, defaulting to 0. Your kernel may not have been built with NUMA support.\n",
      "2022-04-12 16:29:26.096045: I tensorflow/core/common_runtime/pluggable_device/pluggable_device_factory.cc:271] Created TensorFlow device (/job:localhost/replica:0/task:0/device:GPU:0 with 0 MB memory) -> physical PluggableDevice (device: 0, name: METAL, pci bus id: <undefined>)\n"
     ]
    }
   ],
   "source": [
    "#TODO: Construct the model\n",
    "num_inputs = training_set.shape[1] #number of input nodes\n",
    "\n",
    "model = Sequential()\n",
    "model.add(Dense(100, input_dim=num_inputs, activation='sigmoid'))\n",
    "model.add(Dense(2, activation='softmax'))"
   ]
  },
  {
   "cell_type": "code",
   "execution_count": 7,
   "id": "8ad3847e",
   "metadata": {},
   "outputs": [],
   "source": [
    "#TODO: Compile the model\n",
    "model.compile(loss='binary_crossentropy', optimizer='adam', metrics=['accuracy'])\n"
   ]
  },
  {
   "cell_type": "markdown",
   "id": "e3eba0ee",
   "metadata": {},
   "source": [
    "# Train the network"
   ]
  },
  {
   "cell_type": "code",
   "execution_count": 8,
   "id": "829e8198",
   "metadata": {},
   "outputs": [
    {
     "name": "stderr",
     "output_type": "stream",
     "text": [
      "2022-04-12 16:29:36.101639: I tensorflow/compiler/mlir/mlir_graph_optimization_pass.cc:176] None of the MLIR Optimization Passes are enabled (registered 2)\n",
      "2022-04-12 16:29:36.103874: W tensorflow/core/platform/profile_utils/cpu_utils.cc:128] Failed to get CPU frequency: 0 Hz\n"
     ]
    },
    {
     "name": "stdout",
     "output_type": "stream",
     "text": [
      "Epoch 1/150\n"
     ]
    },
    {
     "name": "stderr",
     "output_type": "stream",
     "text": [
      "2022-04-12 16:29:36.536406: I tensorflow/core/grappler/optimizers/custom_graph_optimizer_registry.cc:112] Plugin optimizer for device_type GPU is enabled.\n"
     ]
    },
    {
     "name": "stdout",
     "output_type": "stream",
     "text": [
      "1800/1800 [==============================] - 10s 4ms/step - loss: 0.0274 - accuracy: 0.9962\n",
      "Epoch 2/150\n",
      "1800/1800 [==============================] - 8s 4ms/step - loss: 0.0021 - accuracy: 0.9997\n",
      "Epoch 3/150\n",
      "1800/1800 [==============================] - 8s 4ms/step - loss: 3.8618e-04 - accuracy: 1.0000\n",
      "Epoch 4/150\n",
      "1800/1800 [==============================] - 8s 4ms/step - loss: 1.0005e-04 - accuracy: 1.0000\n",
      "Epoch 5/150\n",
      "1800/1800 [==============================] - 8s 4ms/step - loss: 3.7169e-05 - accuracy: 1.0000\n",
      "Epoch 6/150\n",
      "1800/1800 [==============================] - 8s 4ms/step - loss: 1.5455e-05 - accuracy: 1.0000\n",
      "Epoch 7/150\n",
      "1800/1800 [==============================] - 8s 4ms/step - loss: 6.2949e-06 - accuracy: 1.0000\n",
      "Epoch 8/150\n",
      "1800/1800 [==============================] - 8s 4ms/step - loss: 2.5527e-06 - accuracy: 1.0000\n",
      "Epoch 9/150\n",
      "1800/1800 [==============================] - 8s 4ms/step - loss: 1.0300e-06 - accuracy: 1.0000\n",
      "Epoch 10/150\n",
      "1800/1800 [==============================] - 8s 4ms/step - loss: 4.2569e-07 - accuracy: 1.0000\n",
      "Epoch 11/150\n",
      "1800/1800 [==============================] - 8s 4ms/step - loss: 2.0012e-07 - accuracy: 1.0000\n",
      "Epoch 12/150\n",
      "1800/1800 [==============================] - 8s 4ms/step - loss: 5.8741e-08 - accuracy: 1.0000\n",
      "Epoch 13/150\n",
      "1800/1800 [==============================] - 8s 4ms/step - loss: 2.5732e-08 - accuracy: 1.0000\n",
      "Epoch 14/150\n",
      "1800/1800 [==============================] - 8s 4ms/step - loss: 1.3967e-08 - accuracy: 1.0000\n",
      "Epoch 15/150\n",
      "1800/1800 [==============================] - 8s 4ms/step - loss: 8.5614e-09 - accuracy: 1.0000\n",
      "Epoch 16/150\n",
      "1800/1800 [==============================] - 8s 4ms/step - loss: 5.6785e-09 - accuracy: 1.0000\n",
      "Epoch 17/150\n",
      "1800/1800 [==============================] - 8s 4ms/step - loss: 3.9088e-09 - accuracy: 1.0000\n",
      "Epoch 18/150\n",
      "1800/1800 [==============================] - 8s 4ms/step - loss: 2.7933e-09 - accuracy: 1.0000\n",
      "Epoch 19/150\n",
      "1800/1800 [==============================] - 8s 4ms/step - loss: 2.2012e-09 - accuracy: 1.0000\n",
      "Epoch 20/150\n",
      "1800/1800 [==============================] - 8s 4ms/step - loss: 1.7834e-09 - accuracy: 1.0000\n",
      "Epoch 21/150\n",
      "1800/1800 [==============================] - 8s 4ms/step - loss: 1.4942e-09 - accuracy: 1.0000\n",
      "Epoch 22/150\n",
      "1800/1800 [==============================] - 8s 4ms/step - loss: 1.2349e-09 - accuracy: 1.0000\n",
      "Epoch 23/150\n",
      "1800/1800 [==============================] - 8s 4ms/step - loss: 1.0237e-09 - accuracy: 1.0000\n",
      "Epoch 24/150\n",
      "1800/1800 [==============================] - 8s 4ms/step - loss: 8.9515e-10 - accuracy: 1.0000\n",
      "Epoch 25/150\n",
      "1800/1800 [==============================] - 8s 4ms/step - loss: 8.1711e-10 - accuracy: 1.0000\n",
      "Epoch 26/150\n",
      "1800/1800 [==============================] - 8s 4ms/step - loss: 7.2760e-10 - accuracy: 1.0000\n",
      "Epoch 27/150\n",
      "1800/1800 [==============================] - 8s 4ms/step - loss: 6.4497e-10 - accuracy: 1.0000\n",
      "Epoch 28/150\n",
      "1800/1800 [==============================] - 8s 4ms/step - loss: 6.1284e-10 - accuracy: 1.0000\n",
      "Epoch 29/150\n",
      "1800/1800 [==============================] - 8s 4ms/step - loss: 5.5316e-10 - accuracy: 1.0000\n",
      "Epoch 30/150\n",
      "1800/1800 [==============================] - 8s 4ms/step - loss: 5.2332e-10 - accuracy: 1.0000\n",
      "Epoch 31/150\n",
      "1800/1800 [==============================] - 8s 4ms/step - loss: 4.9348e-10 - accuracy: 1.0000\n",
      "Epoch 32/150\n",
      "1800/1800 [==============================] - 8s 4ms/step - loss: 4.5676e-10 - accuracy: 1.0000\n",
      "Epoch 33/150\n",
      "1800/1800 [==============================] - 8s 4ms/step - loss: 4.4758e-10 - accuracy: 1.0000\n",
      "Epoch 34/150\n",
      "1800/1800 [==============================] - 8s 4ms/step - loss: 4.3381e-10 - accuracy: 1.0000\n",
      "Epoch 35/150\n",
      "1800/1800 [==============================] - 8s 4ms/step - loss: 4.1544e-10 - accuracy: 1.0000\n",
      "Epoch 36/150\n",
      "1800/1800 [==============================] - 8s 4ms/step - loss: 3.9938e-10 - accuracy: 1.0000\n",
      "Epoch 37/150\n",
      "1800/1800 [==============================] - 8s 4ms/step - loss: 3.8101e-10 - accuracy: 1.0000\n",
      "Epoch 38/150\n",
      "1800/1800 [==============================] - 8s 4ms/step - loss: 3.6036e-10 - accuracy: 1.0000\n",
      "Epoch 39/150\n",
      "1800/1800 [==============================] - 8s 4ms/step - loss: 3.4658e-10 - accuracy: 1.0000\n",
      "Epoch 40/150\n",
      "1800/1800 [==============================] - 8s 4ms/step - loss: 3.2134e-10 - accuracy: 1.0000\n",
      "Epoch 41/150\n",
      "1800/1800 [==============================] - 8s 4ms/step - loss: 3.1216e-10 - accuracy: 1.0000\n",
      "Epoch 42/150\n",
      "1800/1800 [==============================] - 8s 4ms/step - loss: 2.8461e-10 - accuracy: 1.0000\n",
      "Epoch 43/150\n",
      "1800/1800 [==============================] - 8s 4ms/step - loss: 2.6625e-10 - accuracy: 1.0000\n",
      "Epoch 44/150\n",
      "1800/1800 [==============================] - 8s 4ms/step - loss: 2.2953e-10 - accuracy: 1.0000\n",
      "Epoch 45/150\n",
      "1800/1800 [==============================] - 8s 4ms/step - loss: 2.1576e-10 - accuracy: 1.0000\n",
      "Epoch 46/150\n",
      "1800/1800 [==============================] - 8s 4ms/step - loss: 1.8821e-10 - accuracy: 1.0000\n",
      "Epoch 47/150\n",
      "1800/1800 [==============================] - 8s 4ms/step - loss: 1.8821e-10 - accuracy: 1.0000\n",
      "Epoch 48/150\n",
      "1800/1800 [==============================] - 8s 4ms/step - loss: 1.7444e-10 - accuracy: 1.0000\n",
      "Epoch 49/150\n",
      "1800/1800 [==============================] - 8s 4ms/step - loss: 1.6526e-10 - accuracy: 1.0000\n",
      "Epoch 50/150\n",
      "1800/1800 [==============================] - 8s 4ms/step - loss: 1.6985e-10 - accuracy: 1.0000\n",
      "Epoch 51/150\n",
      "1800/1800 [==============================] - 8s 4ms/step - loss: 1.5608e-10 - accuracy: 1.0000\n",
      "Epoch 52/150\n",
      "1800/1800 [==============================] - 8s 4ms/step - loss: 1.4231e-10 - accuracy: 1.0000\n",
      "Epoch 53/150\n",
      "1800/1800 [==============================] - 8s 4ms/step - loss: 1.3313e-10 - accuracy: 1.0000\n",
      "Epoch 54/150\n",
      "1800/1800 [==============================] - 8s 4ms/step - loss: 1.1476e-10 - accuracy: 1.0000\n",
      "Epoch 55/150\n",
      "1800/1800 [==============================] - 8s 4ms/step - loss: 1.1017e-10 - accuracy: 1.0000\n",
      "Epoch 56/150\n",
      "1800/1800 [==============================] - 8s 4ms/step - loss: 1.0558e-10 - accuracy: 1.0000\n",
      "Epoch 57/150\n",
      "1800/1800 [==============================] - 8s 4ms/step - loss: 1.0558e-10 - accuracy: 1.0000\n",
      "Epoch 58/150\n",
      "1800/1800 [==============================] - 8s 4ms/step - loss: 1.0099e-10 - accuracy: 1.0000\n",
      "Epoch 59/150\n",
      "1800/1800 [==============================] - 8s 4ms/step - loss: 9.6401e-11 - accuracy: 1.0000\n",
      "Epoch 60/150\n",
      "1800/1800 [==============================] - 8s 4ms/step - loss: 9.1811e-11 - accuracy: 1.0000\n",
      "Epoch 61/150\n",
      "1800/1800 [==============================] - 8s 4ms/step - loss: 8.7220e-11 - accuracy: 1.0000\n",
      "Epoch 62/150\n",
      "1800/1800 [==============================] - 8s 4ms/step - loss: 8.7220e-11 - accuracy: 1.0000\n",
      "Epoch 63/150\n",
      "1800/1800 [==============================] - 8s 4ms/step - loss: 8.7220e-11 - accuracy: 1.0000\n",
      "Epoch 64/150\n",
      "1800/1800 [==============================] - 8s 4ms/step - loss: 8.7220e-11 - accuracy: 1.0000\n",
      "Epoch 65/150\n",
      "1800/1800 [==============================] - 8s 4ms/step - loss: 8.7220e-11 - accuracy: 1.0000\n",
      "Epoch 66/150\n",
      "1800/1800 [==============================] - 8s 4ms/step - loss: 8.7220e-11 - accuracy: 1.0000\n",
      "Epoch 67/150\n",
      "1800/1800 [==============================] - 8s 4ms/step - loss: 8.2630e-11 - accuracy: 1.0000\n",
      "Epoch 68/150\n",
      "1800/1800 [==============================] - 8s 4ms/step - loss: 7.3449e-11 - accuracy: 1.0000\n",
      "Epoch 69/150\n",
      "1800/1800 [==============================] - 8s 4ms/step - loss: 6.8858e-11 - accuracy: 1.0000\n",
      "Epoch 70/150\n",
      "1800/1800 [==============================] - 8s 4ms/step - loss: 6.8858e-11 - accuracy: 1.0000\n",
      "Epoch 71/150\n",
      "1800/1800 [==============================] - 8s 4ms/step - loss: 6.1972e-11 - accuracy: 1.0000\n",
      "Epoch 72/150\n",
      "1800/1800 [==============================] - 8s 4ms/step - loss: 6.1972e-11 - accuracy: 1.0000\n",
      "Epoch 73/150\n",
      "1800/1800 [==============================] - 8s 4ms/step - loss: 6.1972e-11 - accuracy: 1.0000\n",
      "Epoch 74/150\n",
      "1800/1800 [==============================] - 8s 4ms/step - loss: 6.1972e-11 - accuracy: 1.0000\n",
      "Epoch 75/150\n",
      "1800/1800 [==============================] - 8s 4ms/step - loss: 6.1972e-11 - accuracy: 1.0000\n",
      "Epoch 76/150\n",
      "1800/1800 [==============================] - 8s 4ms/step - loss: 6.1972e-11 - accuracy: 1.0000\n",
      "Epoch 77/150\n"
     ]
    },
    {
     "name": "stdout",
     "output_type": "stream",
     "text": [
      "1800/1800 [==============================] - 8s 4ms/step - loss: 6.1972e-11 - accuracy: 1.0000\n",
      "Epoch 78/150\n",
      "1800/1800 [==============================] - 8s 4ms/step - loss: 5.7382e-11 - accuracy: 1.0000\n",
      "Epoch 79/150\n",
      "1800/1800 [==============================] - 8s 4ms/step - loss: 5.7382e-11 - accuracy: 1.0000\n",
      "Epoch 80/150\n",
      "1800/1800 [==============================] - 8s 4ms/step - loss: 5.7382e-11 - accuracy: 1.0000\n",
      "Epoch 81/150\n",
      "1800/1800 [==============================] - 8s 4ms/step - loss: 5.7382e-11 - accuracy: 1.0000\n",
      "Epoch 82/150\n",
      "1800/1800 [==============================] - 8s 4ms/step - loss: 5.7382e-11 - accuracy: 1.0000\n",
      "Epoch 83/150\n",
      "1800/1800 [==============================] - 8s 4ms/step - loss: 5.7382e-11 - accuracy: 1.0000\n",
      "Epoch 84/150\n",
      "1800/1800 [==============================] - 8s 4ms/step - loss: 5.7382e-11 - accuracy: 1.0000\n",
      "Epoch 85/150\n",
      "1800/1800 [==============================] - 8s 4ms/step - loss: 5.2791e-11 - accuracy: 1.0000\n",
      "Epoch 86/150\n",
      "1800/1800 [==============================] - 8s 4ms/step - loss: 4.8201e-11 - accuracy: 1.0000\n",
      "Epoch 87/150\n",
      "1800/1800 [==============================] - 8s 4ms/step - loss: 4.5905e-11 - accuracy: 1.0000\n",
      "Epoch 88/150\n",
      "1800/1800 [==============================] - 8s 4ms/step - loss: 4.5905e-11 - accuracy: 1.0000\n",
      "Epoch 89/150\n",
      "1800/1800 [==============================] - 8s 4ms/step - loss: 4.5905e-11 - accuracy: 1.0000\n",
      "Epoch 90/150\n",
      "1800/1800 [==============================] - 8s 4ms/step - loss: 4.5905e-11 - accuracy: 1.0000\n",
      "Epoch 91/150\n",
      "1800/1800 [==============================] - 8s 4ms/step - loss: 4.5905e-11 - accuracy: 1.0000\n",
      "Epoch 92/150\n",
      "1800/1800 [==============================] - 8s 4ms/step - loss: 4.5905e-11 - accuracy: 1.0000\n",
      "Epoch 93/150\n",
      "1800/1800 [==============================] - 8s 4ms/step - loss: 4.5905e-11 - accuracy: 1.0000\n",
      "Epoch 94/150\n",
      "1800/1800 [==============================] - 8s 4ms/step - loss: 4.5905e-11 - accuracy: 1.0000\n",
      "Epoch 95/150\n",
      "1800/1800 [==============================] - 8s 4ms/step - loss: 4.5905e-11 - accuracy: 1.0000\n",
      "Epoch 96/150\n",
      "1800/1800 [==============================] - 8s 4ms/step - loss: 4.5905e-11 - accuracy: 1.0000\n",
      "Epoch 97/150\n",
      "1800/1800 [==============================] - 8s 4ms/step - loss: 4.1315e-11 - accuracy: 1.0000\n",
      "Epoch 98/150\n",
      "1800/1800 [==============================] - 8s 4ms/step - loss: 4.1315e-11 - accuracy: 1.0000\n",
      "Epoch 99/150\n",
      "1800/1800 [==============================] - 8s 4ms/step - loss: 4.1315e-11 - accuracy: 1.0000\n",
      "Epoch 100/150\n",
      "1800/1800 [==============================] - 8s 4ms/step - loss: 4.1315e-11 - accuracy: 1.0000\n",
      "Epoch 101/150\n",
      "1800/1800 [==============================] - 8s 4ms/step - loss: 4.1315e-11 - accuracy: 1.0000\n",
      "Epoch 102/150\n",
      "1800/1800 [==============================] - 8s 4ms/step - loss: 4.1315e-11 - accuracy: 1.0000\n",
      "Epoch 103/150\n",
      "1800/1800 [==============================] - 8s 4ms/step - loss: 4.1315e-11 - accuracy: 1.0000\n",
      "Epoch 104/150\n",
      "1800/1800 [==============================] - 8s 4ms/step - loss: 4.1315e-11 - accuracy: 1.0000\n",
      "Epoch 105/150\n",
      "1800/1800 [==============================] - 8s 4ms/step - loss: 4.1315e-11 - accuracy: 1.0000\n",
      "Epoch 106/150\n",
      "1800/1800 [==============================] - 8s 4ms/step - loss: 4.1315e-11 - accuracy: 1.0000\n",
      "Epoch 107/150\n",
      "1800/1800 [==============================] - 8s 4ms/step - loss: 4.1315e-11 - accuracy: 1.0000\n",
      "Epoch 108/150\n",
      "1800/1800 [==============================] - 8s 4ms/step - loss: 4.1315e-11 - accuracy: 1.0000\n",
      "Epoch 109/150\n",
      "1800/1800 [==============================] - 8s 4ms/step - loss: 3.6724e-11 - accuracy: 1.0000\n",
      "Epoch 110/150\n",
      "1800/1800 [==============================] - 8s 4ms/step - loss: 4.1315e-11 - accuracy: 1.0000\n",
      "Epoch 111/150\n",
      "1800/1800 [==============================] - 8s 4ms/step - loss: 3.6724e-11 - accuracy: 1.0000\n",
      "Epoch 112/150\n",
      "1800/1800 [==============================] - 8s 4ms/step - loss: 3.6724e-11 - accuracy: 1.0000\n",
      "Epoch 113/150\n",
      "1800/1800 [==============================] - 8s 4ms/step - loss: 3.6724e-11 - accuracy: 1.0000\n",
      "Epoch 114/150\n",
      "1800/1800 [==============================] - 8s 4ms/step - loss: 3.6724e-11 - accuracy: 1.0000\n",
      "Epoch 115/150\n",
      "1800/1800 [==============================] - 8s 4ms/step - loss: 3.6724e-11 - accuracy: 1.0000\n",
      "Epoch 116/150\n",
      "1800/1800 [==============================] - 8s 4ms/step - loss: 3.6724e-11 - accuracy: 1.0000\n",
      "Epoch 117/150\n",
      "1800/1800 [==============================] - 8s 4ms/step - loss: 3.6724e-11 - accuracy: 1.0000\n",
      "Epoch 118/150\n",
      "1800/1800 [==============================] - 8s 4ms/step - loss: 3.6724e-11 - accuracy: 1.0000\n",
      "Epoch 119/150\n",
      "1800/1800 [==============================] - 8s 4ms/step - loss: 3.2134e-11 - accuracy: 1.0000\n",
      "Epoch 120/150\n",
      "1800/1800 [==============================] - 8s 4ms/step - loss: 3.2134e-11 - accuracy: 1.0000\n",
      "Epoch 121/150\n",
      "1800/1800 [==============================] - 8s 4ms/step - loss: 2.7543e-11 - accuracy: 1.0000\n",
      "Epoch 122/150\n",
      "1800/1800 [==============================] - 8s 4ms/step - loss: 2.7543e-11 - accuracy: 1.0000\n",
      "Epoch 123/150\n",
      "1800/1800 [==============================] - 8s 4ms/step - loss: 2.2953e-11 - accuracy: 1.0000\n",
      "Epoch 124/150\n",
      "1800/1800 [==============================] - 8s 4ms/step - loss: 2.2953e-11 - accuracy: 1.0000\n",
      "Epoch 125/150\n",
      "1800/1800 [==============================] - 8s 4ms/step - loss: 2.2953e-11 - accuracy: 1.0000\n",
      "Epoch 126/150\n",
      "1800/1800 [==============================] - 8s 4ms/step - loss: 2.2953e-11 - accuracy: 1.0000\n",
      "Epoch 127/150\n",
      "1800/1800 [==============================] - 8s 4ms/step - loss: 2.2953e-11 - accuracy: 1.0000\n",
      "Epoch 128/150\n",
      "1800/1800 [==============================] - 8s 4ms/step - loss: 2.2953e-11 - accuracy: 1.0000\n",
      "Epoch 129/150\n",
      "1800/1800 [==============================] - 8s 4ms/step - loss: 2.2953e-11 - accuracy: 1.0000\n",
      "Epoch 130/150\n",
      "1800/1800 [==============================] - 8s 4ms/step - loss: 1.8362e-11 - accuracy: 1.0000\n",
      "Epoch 131/150\n",
      "1800/1800 [==============================] - 8s 4ms/step - loss: 1.8362e-11 - accuracy: 1.0000\n",
      "Epoch 132/150\n",
      "1800/1800 [==============================] - 8s 4ms/step - loss: 1.8362e-11 - accuracy: 1.0000\n",
      "Epoch 133/150\n",
      "1800/1800 [==============================] - 8s 4ms/step - loss: 1.8362e-11 - accuracy: 1.0000\n",
      "Epoch 134/150\n",
      "1800/1800 [==============================] - 8s 4ms/step - loss: 1.8362e-11 - accuracy: 1.0000\n",
      "Epoch 135/150\n",
      "1800/1800 [==============================] - 8s 4ms/step - loss: 1.8362e-11 - accuracy: 1.0000\n",
      "Epoch 136/150\n",
      "1800/1800 [==============================] - 8s 4ms/step - loss: 1.8362e-11 - accuracy: 1.0000\n",
      "Epoch 137/150\n",
      "1800/1800 [==============================] - 8s 4ms/step - loss: 1.8362e-11 - accuracy: 1.0000\n",
      "Epoch 138/150\n",
      "1800/1800 [==============================] - 8s 4ms/step - loss: 1.8362e-11 - accuracy: 1.0000\n",
      "Epoch 139/150\n",
      "1800/1800 [==============================] - 8s 4ms/step - loss: 1.8362e-11 - accuracy: 1.0000\n",
      "Epoch 140/150\n",
      "1800/1800 [==============================] - 8s 4ms/step - loss: 1.8362e-11 - accuracy: 1.0000\n",
      "Epoch 141/150\n",
      "1800/1800 [==============================] - 8s 4ms/step - loss: 1.8362e-11 - accuracy: 1.0000\n",
      "Epoch 142/150\n",
      "1800/1800 [==============================] - 8s 4ms/step - loss: 1.8362e-11 - accuracy: 1.0000\n",
      "Epoch 143/150\n",
      "1800/1800 [==============================] - 8s 4ms/step - loss: 1.8362e-11 - accuracy: 1.0000\n",
      "Epoch 144/150\n",
      "1800/1800 [==============================] - 8s 4ms/step - loss: 1.8362e-11 - accuracy: 1.0000\n",
      "Epoch 145/150\n",
      "1800/1800 [==============================] - 8s 4ms/step - loss: 1.8362e-11 - accuracy: 1.0000\n",
      "Epoch 146/150\n",
      "1800/1800 [==============================] - 8s 4ms/step - loss: 1.8362e-11 - accuracy: 1.0000\n",
      "Epoch 147/150\n",
      "1800/1800 [==============================] - 8s 4ms/step - loss: 1.8362e-11 - accuracy: 1.0000\n",
      "Epoch 148/150\n",
      "1800/1800 [==============================] - 8s 4ms/step - loss: 1.8362e-11 - accuracy: 1.0000\n",
      "Epoch 149/150\n",
      "1800/1800 [==============================] - 8s 4ms/step - loss: 1.8362e-11 - accuracy: 1.0000\n",
      "Epoch 150/150\n",
      "1800/1800 [==============================] - 8s 4ms/step - loss: 1.8362e-11 - accuracy: 1.0000\n"
     ]
    },
    {
     "data": {
      "text/plain": [
       "<tensorflow.python.keras.callbacks.History at 0x17dafe0a0>"
      ]
     },
     "execution_count": 8,
     "metadata": {},
     "output_type": "execute_result"
    }
   ],
   "source": [
    "#TODO: Train ('fit') the model. Experiment with number of epochs and batch sizes.\n",
    "model.fit(training_set, training_labels, epochs=150, batch_size=10)"
   ]
  },
  {
   "cell_type": "code",
   "execution_count": 10,
   "metadata": {},
   "outputs": [
    {
     "name": "stdout",
     "output_type": "stream",
     "text": [
      "719/719 [==============================] - 2s 3ms/step - loss: 0.0087 - accuracy: 0.9984\n",
      "Accuracy: 99.84\n"
     ]
    }
   ],
   "source": [
    "#evaluating the model on the validation set\n",
    "_, accuracy = model.evaluate(validation_set, validation_labels)\n",
    "print('Accuracy: %.2f' % (accuracy*100))"
   ]
  },
  {
   "cell_type": "markdown",
   "id": "b744a990",
   "metadata": {},
   "source": [
    "# Predictions\n",
    "Use your trained model to predict the phases of your \"validation\" configurations. Visualize the results.\n",
    "\n",
    "For example, you could predict the phase of all configurations at a certain temperature T, then count how many are classified as \"disordered\" and how many as \"ordered\". Then plot this as a function of T."
   ]
  },
  {
   "cell_type": "code",
   "execution_count": 108,
   "id": "f259cbab",
   "metadata": {},
   "outputs": [],
   "source": [
    "#TODO: Perform predictions, visualize the results and interpret.\n",
    "predictions = (model.predict(validation_set) > 0.5).astype(int)"
   ]
  },
  {
   "cell_type": "code",
   "execution_count": 116,
   "metadata": {},
   "outputs": [],
   "source": [
    "num_temp = int(validation_temp.shape[0]/1000) #number of different temperatures in the validation_temp\n",
    "counter = []\n",
    "temperatures = []\n",
    "\n",
    "#for each temp in validation_temp count how many configurations are in the ordered state and store in counter\n",
    "for i in range(num_temp):\n",
    "    temp = validation_temp[i*1000]\n",
    "    indicies = np.argwhere(validation_temp == temp)\n",
    "    predic = predictions[indicies,:]\n",
    "    #number of ordered states:\n",
    "    ordered_states = np.argwhere(predic == [[1,0]]).shape[0]\n",
    "    counter = np.append(counter,ordered_states)\n",
    "    temperatures = np.append(temperatures, temp)\n",
    "\n",
    "counter /= 2000 #normalize the counter"
   ]
  },
  {
   "cell_type": "code",
   "execution_count": 117,
   "metadata": {},
   "outputs": [
    {
     "data": {
      "image/png": "[encoded data removed]",
      "text/plain": [
       "<Figure size 432x288 with 1 Axes>"
      ]
     },
     "metadata": {
      "needs_background": "light"
     },
     "output_type": "display_data"
    }
   ],
   "source": [
    "\n",
    "#plot the number of ordered states over the temperature\n",
    "plt.scatter(temperatures, counter, color='blue', linewidth=1, label='predictions')\n",
    "plt.plot(temperatures, counter, color='darkorange', linewidth=2.5)\n",
    "plt.xlabel(r\"inverse temperature $\\beta$\")\n",
    "plt.ylabel(\"percentage of ordered states in prediction\")\n",
    "plt.legend(loc=\"lower right\")\n",
    "#plt.savefig('Ordered_states.svg', format = 'svg', dpi=300)\n",
    "plt.show()"
   ]
  },
  {
   "cell_type": "code",
   "execution_count": null,
   "metadata": {},
   "outputs": [],
   "source": []
  }
 ],
 "metadata": {
  "kernelspec": {
   "display_name": "Python 3.9 (tensorflow)",
   "language": "python",
   "name": "tensorflow"
  },
  "language_info": {
   "codemirror_mode": {
    "name": "ipython",
    "version": 3
   },
   "file_extension": ".py",
   "mimetype": "text/x-python",
   "name": "python",
   "nbconvert_exporter": "python",
   "pygments_lexer": "ipython3",
   "version": "3.9.12"
  }
 },
 "nbformat": 4,
 "nbformat_minor": 5
}
