{
 "cells": [
  {
   "cell_type": "code",
   "execution_count": 34,
   "metadata": {},
   "outputs": [],
   "source": [
    "using Random\n",
    "using ProgressBars\n",
    "using DataFrames\n",
    "using Tables\n",
    "using CSV\n",
    "using ProgressMeter"
   ]
  },
  {
   "cell_type": "code",
   "execution_count": 16,
   "metadata": {},
   "outputs": [
    {
     "data": {
      "text/plain": [
       "move!"
      ]
     },
     "execution_count": 16,
     "metadata": {},
     "output_type": "execute_result"
    }
   ],
   "source": [
    "\"\"\"Returns the nearest neighbor sum of (i,j) in the matrix x, obeying periodic boundary conditions\"\"\"\n",
    "function nn(x::AbstractMatrix, i::Integer, j::Integer)\n",
    "    x[mod1(i-1, size(x, 1)), j] + x[mod1(i+1, size(x, 1)), j] + x[i, mod1(j-1, size(x, 2))] + x[i, mod1(j+1, size(x, 2))]\n",
    "end\n",
    "\n",
    "\"\"\"Perform one step in the Metropolis algorithm for the 2D Ising model stored in x,\n",
    "with the net magnetization and energy E.\"\"\"\n",
    "function move!(x::AbstractMatrix, lookup::AbstractVector)\n",
    "    #= Pick a random site =#\n",
    "    i = rand(1:size(x, 1))\n",
    "    j = rand(1:size(x, 2))\n",
    "\n",
    "    #= Compute the Metropolis acceptance probability =#\n",
    "    nn_sum = nn(x, i, j) # to avoid multiple function calls\n",
    "\n",
    "    # there is only 5 possible outcomes with energies -4, -2, 0, 2, 4\n",
    "    index = trunc(Int64, (nn_sum+6)÷2)\n",
    "\n",
    "    p_acc = (x[i, j] == 1) ? lookup[6-index] : lookup[index]\n",
    "\n",
    "    #= Perform the single spin flip =#\n",
    "    if p_acc > rand()\n",
    "        x[i, j] *= -1\n",
    "    end\n",
    "    \n",
    "    x\n",
    "end"
   ]
  },
  {
   "cell_type": "code",
   "execution_count": 17,
   "metadata": {},
   "outputs": [
    {
     "data": {
      "text/plain": [
       "thermalize_grid (generic function with 1 method)"
      ]
     },
     "execution_count": 17,
     "metadata": {},
     "output_type": "execute_result"
    }
   ],
   "source": [
    "function thermalize_grid(beta,L,Nthermalization)\n",
    "    lookup = exp.(2*beta*[-4:2:4...]) # lookup table for the allowed Metropolis\n",
    "    \n",
    "    #= Initialization of the ferromagnetic ground state =#\n",
    "    x = ones(L, L)       # all spins up\n",
    "    \n",
    "    #= Thermalization =#\n",
    "    for _ in 1:Nthermalization\n",
    "        x = move!(x, lookup)\n",
    "    end\n",
    "    x\n",
    "end"
   ]
  },
  {
   "cell_type": "markdown",
   "metadata": {},
   "source": [
    "## Create the training set"
   ]
  },
  {
   "cell_type": "code",
   "execution_count": 36,
   "metadata": {},
   "outputs": [
    {
     "name": "stderr",
     "output_type": "stream",
     "text": [
      "\u001b[32mComputing... 100%|███████████████████████████████████████| Time: 0:25:15\u001b[39m\n"
     ]
    },
    {
     "name": "stdout",
     "output_type": "stream",
     "text": [
      "running for beta = 0.2running for beta = 0.23157894736842108running for beta = 0.2631578947368421running for beta = 0.2947368421052632running for beta = 0.3263157894736842running for beta = 0.35789473684210527running for beta = 0.3894736842105263running for beta = 0.42105263157894735running for beta = 0.45263157894736844running for beta = 0.48421052631578954running for beta = 0.5157894736842106running for beta = 0.5473684210526316running for beta = 0.5789473684210527running for beta = 0.6105263157894737running for beta = 0.6421052631578947running for beta = 0.6736842105263159running for beta = 0.7052631578947368running for beta = 0.7368421052631579running for beta = 0.768421052631579running for beta = 0.8"
     ]
    },
    {
     "data": {
      "text/plain": [
       "\"training_set.csv\""
      ]
     },
     "execution_count": 36,
     "metadata": {},
     "output_type": "execute_result"
    }
   ],
   "source": [
    "temp = LinRange(0.2,0.8,20)\n",
    "L = 30\n",
    "Nthermalization = 10e5\n",
    "labels = []\n",
    "inputs = []\n",
    "\n",
    "@showprogress 1 \"Computing...\"  for beta ∈ temp\n",
    "    print(\"running for beta = \", beta)\n",
    "    for i in 1:1000\n",
    "        x = reshape(thermalize_grid(beta,L,Nthermalization),(1,:))\n",
    "        push!(labels,beta)\n",
    "        inputs = cat(inputs,x,dims=1)\n",
    "    end\n",
    "end\n",
    "\n",
    "df = DataFrame(inputs, :auto)\n",
    "df.label = labels\n",
    "CSV.write(\"training_set.csv\", df)"
   ]
  },
  {
   "cell_type": "markdown",
   "metadata": {},
   "source": [
    "## Create the testing set"
   ]
  },
  {
   "cell_type": "code",
   "execution_count": 38,
   "metadata": {},
   "outputs": [
    {
     "name": "stderr",
     "output_type": "stream",
     "text": [
      "\u001b[32mComputing... 100%|███████████████████████████████████████| Time: 0:25:24\u001b[39m\n"
     ]
    },
    {
     "name": "stdout",
     "output_type": "stream",
     "text": [
      "running for beta = 0.2running for beta = 0.225running for beta = 0.25running for beta = 0.275running for beta = 0.30000000000000004running for beta = 0.325running for beta = 0.35000000000000003running for beta = 0.375running for beta = 0.4running for beta = 0.42500000000000004running for beta = 0.45running for beta = 0.47500000000000003running for beta = 0.5running for beta = 0.525running for beta = 0.55running for beta = 0.575running for beta = 0.6running for beta = 0.6250000000000001running for beta = 0.6500000000000001running for beta = 0.6749999999999999running for beta = 0.7000000000000001running for beta = 0.7250000000000001running for beta = 0.7500000000000001running for beta = 0.775running for beta = 0.8"
     ]
    },
    {
     "data": {
      "text/plain": [
       "\"validation_set.csv\""
      ]
     },
     "execution_count": 38,
     "metadata": {},
     "output_type": "execute_result"
    }
   ],
   "source": [
    "temp = LinRange(0.2,0.8,25)\n",
    "L = 30\n",
    "Nthermalization = 10e5\n",
    "labels = []\n",
    "inputs = []\n",
    "\n",
    "@showprogress 1 \"Computing...\" for beta ∈ temp\n",
    "    print(\"running for beta = \", beta)\n",
    "    for i in 1:1000\n",
    "        x = reshape(thermalize_grid(beta,L,Nthermalization),(1,:))\n",
    "        push!(labels,beta)\n",
    "        inputs = cat(inputs,x,dims=1)\n",
    "    end\n",
    "end\n",
    "\n",
    "df = DataFrame(inputs, :auto)\n",
    "df.label = labels\n",
    "CSV.write(\"validation_set.csv\", df)"
   ]
  },
  {
   "cell_type": "code",
   "execution_count": 1,
   "metadata": {},
   "outputs": [
    {
     "data": {
      "text/plain": [
       "20-element LinRange{Float64, Int64}:\n",
       " 0.2,0.231579,0.263158,0.294737,0.326316,…,0.705263,0.736842,0.768421,0.8"
      ]
     },
     "execution_count": 1,
     "metadata": {},
     "output_type": "execute_result"
    }
   ],
   "source": [
    "temp = LinRange(0.2,0.8,20)"
   ]
  },
  {
   "cell_type": "code",
   "execution_count": null,
   "metadata": {},
   "outputs": [],
   "source": []
  }
 ],
 "metadata": {
  "kernelspec": {
   "display_name": "Julia 1.7.2",
   "language": "julia",
   "name": "julia-1.7"
  },
  "language_info": {
   "file_extension": ".jl",
   "mimetype": "application/julia",
   "name": "julia",
   "version": "1.7.2"
  }
 },
 "nbformat": 4,
 "nbformat_minor": 4
}
