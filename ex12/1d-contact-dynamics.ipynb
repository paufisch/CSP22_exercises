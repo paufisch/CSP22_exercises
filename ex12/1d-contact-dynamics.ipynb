{
 "cells": [
  {
   "cell_type": "code",
   "execution_count": 1,
   "metadata": {},
   "outputs": [],
   "source": [
    "import numpy as np\n",
    "import matplotlib.pyplot as plt\n",
    "import matplotlib.animation as animation\n",
    "from matplotlib.animation import PillowWriter\n",
    "from tqdm import tqdm\n",
    "import time\n",
    "import os"
   ]
  },
  {
   "cell_type": "code",
   "execution_count": 2,
   "metadata": {},
   "outputs": [],
   "source": [
    "path = \"1d-simu\"\n",
    "if not os.path.exists(path):\n",
    "    os.makedirs(path)"
   ]
  },
  {
   "cell_type": "code",
   "execution_count": 3,
   "metadata": {},
   "outputs": [],
   "source": [
    "def get_distance(x):\n",
    "    \"\"\"\n",
    "    returns the distance between two particles and for the outer two particles the distance to the boundary\n",
    "    \"\"\"\n",
    "    d = np.zeros(N+1)\n",
    "    d[0] = x[0] - sigma\n",
    "    d[-1] = L - x[-1] - sigma\n",
    "    for i in range(N-1):\n",
    "        d[i+1] = x[i+1]-x[i] - 2*sigma\n",
    "    \n",
    "    return d\n",
    "\n",
    "def update_distance(d,v):\n",
    "    d_next = np.zeros_like(d)\n",
    "    d_next[0] = d[0] + dt*v[0]\n",
    "    d_next[-1] = d[-1] - dt*v[-1]\n",
    "\n",
    "    for i in range(N-1):\n",
    "        d_next[i+1] = d[i+1] + dt*(v[i+1]-v[i])\n",
    "        \n",
    "    return d_next\n",
    "\n",
    "def total_energy(v):\n",
    "    return 0.5*np.sum(v**2)"
   ]
  },
  {
   "cell_type": "code",
   "execution_count": 4,
   "metadata": {},
   "outputs": [
    {
     "name": "stderr",
     "output_type": "stream",
     "text": [
      "100%|███████████████████████████████████████| 1000/1000 [01:17<00:00, 12.87it/s]\n"
     ]
    }
   ],
   "source": [
    "N = 10\n",
    "L = 10\n",
    "dt = 0.01\n",
    "steps = 1000\n",
    "sigma = 0.13\n",
    "counter = 1\n",
    "E = np.zeros(steps)\n",
    "\n",
    "#initial configuration\n",
    "x = np.linspace(1,L-1,N)\n",
    "v  =  np.random.normal(0, 5, N)\n",
    "\n",
    "for s in tqdm(range(steps)):\n",
    "    \n",
    "    d = get_distance(x)\n",
    "    d_next = update_distance(d,v)\n",
    "    R = np.zeros(N)\n",
    "    \n",
    "    if d_next[0] < 0:\n",
    "        #particle 0 collids with boundary\n",
    "        R[0] = -2*v[0]/dt\n",
    "        \n",
    "    if d_next[-1] < 0:\n",
    "        #particle N collids with boundary\n",
    "        R[-1] = -2*v[-1]/dt\n",
    "        \n",
    "    \n",
    "    for i in range(N-1):\n",
    "        if d_next[i+1] < 0:\n",
    "            #particle i and i+1 collide\n",
    "            v_free = v[i+1] - v[i]\n",
    "            v_loc = -d[i+1]/dt\n",
    "            R_loc = 0.5*(v_loc-v_free)/dt\n",
    "            R[i] = - R_loc\n",
    "            R[i+1] = R_loc\n",
    "            \n",
    "    v = v + dt*R\n",
    "    x = x + dt*v\n",
    "     \n",
    "    E[s] = total_energy(v)\n",
    "    \n",
    "    \n",
    "    #save the plot\n",
    "    name = str(counter)+'.png'\n",
    "    fig = plt.figure(figsize=(10, 2))\n",
    "    plt.yticks([])\n",
    "    plt.xticks([])\n",
    "    plt.ylim([-0.1,0.1])\n",
    "    plt.xlim([0,10])\n",
    "    for p in range(N):\n",
    "        plt.scatter(x[p],0,s=200)\n",
    "    plt.savefig(os.path.join(path, name), dpi=300)\n",
    "    plt.close(fig)\n",
    "    \n",
    "    counter += 1\n",
    "    \n"
   ]
  },
  {
   "cell_type": "code",
   "execution_count": 6,
   "metadata": {},
   "outputs": [
    {
     "data": {
      "image/png": "[encoded data removed]",
      "text/plain": [
       "<Figure size 432x288 with 1 Axes>"
      ]
     },
     "metadata": {
      "needs_background": "light"
     },
     "output_type": "display_data"
    }
   ],
   "source": [
    "plt.figure()\n",
    "plt.plot(E)\n",
    "plt.xlabel(\"time\")\n",
    "plt.ylabel(\"Total energy of the system\")\n",
    "plt.savefig(\"energy_with_damping.svg\", dpi = 300)\n",
    "plt.show()"
   ]
  },
  {
   "cell_type": "code",
   "execution_count": null,
   "metadata": {},
   "outputs": [],
   "source": []
  }
 ],
 "metadata": {
  "kernelspec": {
   "display_name": "Python3",
   "language": "python",
   "name": "python3"
  },
  "language_info": {
   "codemirror_mode": {
    "name": "ipython",
    "version": 3
   },
   "file_extension": ".py",
   "mimetype": "text/x-python",
   "name": "python",
   "nbconvert_exporter": "python",
   "pygments_lexer": "ipython3",
   "version": "3.9.10"
  }
 },
 "nbformat": 4,
 "nbformat_minor": 4
}
