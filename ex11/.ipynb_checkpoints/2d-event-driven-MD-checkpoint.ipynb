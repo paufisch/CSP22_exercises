{
 "cells": [
  {
   "cell_type": "code",
   "execution_count": 3,
   "metadata": {},
   "outputs": [],
   "source": [
    "import numpy as np\n",
    "import matplotlib.pyplot as plt\n",
    "import matplotlib.animation as animation\n",
    "from matplotlib.animation import PillowWriter\n",
    "from tqdm import tqdm\n",
    "import time"
   ]
  },
  {
   "cell_type": "code",
   "execution_count": 4,
   "metadata": {},
   "outputs": [],
   "source": [
    "def create_initial_config(L,N,sigma):\n",
    "    x = np.zeros((N,2))\n",
    "    for i in range(N):\n",
    "        correct_placement = 0\n",
    "        while(correct_placement == 0):\n",
    "            x_rand = np.random.rand(2)*L\n",
    "            correct_placement = 1\n",
    "            for j in range(i):\n",
    "                dist = np.linalg.norm(x_rand-x[j,:])\n",
    "                if dist < 2*sigma:\n",
    "                    correct_placement = 0\n",
    "        x[i,:] = x_rand\n",
    "    \n",
    "    v =  np.random.normal(0, 3, (N,2))\n",
    "    return x, v"
   ]
  },
  {
   "cell_type": "code",
   "execution_count": 3,
   "metadata": {},
   "outputs": [],
   "source": [
    "#computes the collision time for one particle pair\n",
    "def compute_tij(x,v,sigma):\n",
    "    \n",
    "    #x and v are the relative positions and velocities\n",
    "    \n",
    "    a = np.dot(v,v)\n",
    "    b = 2*np.dot(v,x)\n",
    "    c = np.dot(x,x) - (2*sigma)**2\n",
    "    \n",
    "    t1 = (-b+np.sqrt(b**2-4*a*c))/(2*a)\n",
    "    t2 = (-b-np.sqrt(b**2-4*a*c))/(2*a)\n",
    "    \n",
    "    if t1 < 0 and t2 > 0:\n",
    "        return t2\n",
    "    elif t2 < 0 and t1 > 0:\n",
    "        return t1\n",
    "    elif t1 > 0 and t2 > 0:\n",
    "        if t1 < t2:\n",
    "            return t1\n",
    "        else:\n",
    "            return t2\n",
    "    else:\n",
    "        return 10000\n",
    "    \n",
    "    \n",
    "       \n",
    "#calculate all the collision times for all particles\n",
    "def get_tij(x,v,N,sigma):\n",
    "\n",
    "    tij = np.zeros((N,N))\n",
    "    for i in range(N):\n",
    "        for j in range(i+1,N):\n",
    "            xij = x[i] - x[j]\n",
    "            vij = v[i] - v[j]\n",
    "            tij[i,j] = compute_tij(xij,vij,sigma)\n",
    "    \n",
    "    return tij\n",
    "\n",
    "\n",
    "\n",
    "#also calculate bounce of times with the walls:\n",
    "def get_boundary_collision(x,v,N,L,sigma):\n",
    "    tr = np.zeros(N)\n",
    "    for i in range(N):\n",
    "        if v[i] < 0:\n",
    "            tr[i] = (x[i]-sigma)/np.abs(v[i])\n",
    "        else:\n",
    "            tr[i] = (L-x[i]-sigma)/np.abs(v[i])\n",
    "    return tr"
   ]
  },
  {
   "cell_type": "code",
   "execution_count": 5,
   "metadata": {},
   "outputs": [],
   "source": [
    "#create inital configuration\n",
    "L = 10 # length of 1d line\n",
    "N = 6 # number of particles\n",
    "m = 1 # mass of particles\n",
    "sigma = 0.11# radius of particle\n",
    "x, v = create_initial_config(L,N,sigma)"
   ]
  },
  {
   "cell_type": "code",
   "execution_count": 7,
   "metadata": {},
   "outputs": [
    {
     "data": {
      "text/plain": [
       "array([[ 2.87839785, -1.09344253],\n",
       "       [ 1.72473947, -0.81319302],\n",
       "       [-0.76068617,  3.44144275],\n",
       "       [-0.14863597, -3.39096736],\n",
       "       [-4.57751951,  2.8198436 ],\n",
       "       [-1.97579072, -4.68689635]])"
      ]
     },
     "execution_count": 7,
     "metadata": {},
     "output_type": "execute_result"
    }
   ],
   "source": []
  },
  {
   "cell_type": "code",
   "execution_count": 8,
   "metadata": {},
   "outputs": [
    {
     "data": {
      "image/png": "[encoded data removed]",
      "text/plain": [
       "<Figure size 720x144 with 1 Axes>"
      ]
     },
     "metadata": {},
     "output_type": "display_data"
    }
   ],
   "source": [
    "y = np.zeros(N)\n",
    "plt.figure(figsize=(10, 2))\n",
    "for i in range(N):\n",
    "    plt.scatter(x[i],0,s=250)\n",
    "plt.yticks([])\n",
    "plt.xticks([])\n",
    "plt.ylim([-0.1,0.1])\n",
    "plt.xlim([0,10])\n",
    "plt.show()"
   ]
  },
  {
   "cell_type": "code",
   "execution_count": 11,
   "metadata": {},
   "outputs": [],
   "source": [
    "end_time = 10\n",
    "dt = 0.01\n",
    "steps = int(end_time/dt)\n",
    "path = '/Users/paul/Desktop/CSP/csp22exercises/ex11/Animation/'\n",
    "\n",
    "t = 0\n",
    "counter = 0\n",
    "while (counter < steps):\n",
    "    #calculate next collision with wall or particle\n",
    "    \n",
    "    #first find the next particle collisions\n",
    "    tij = get_tij(x,v,N,sigma) \n",
    "    tc = np.min(tij[np.nonzero(tij)]) # minimum time of next collision\n",
    "    idx = np.where(tij == tc) # indices of the two particle that colide next\n",
    "    i = idx[0][0]\n",
    "    j = idx[1][0]\n",
    "    \n",
    "    #second find the next collision with the boundary\n",
    "    t_boundary = get_boundary_collision(x,v,N,L,sigma)\n",
    "    tb = np.min(t_boundary) # time of next boundary collision\n",
    "    k = np.where(t_boundary == tb)[0][0] # index of the particle that collides with the boundary\n",
    "    \n",
    "    if tc < tb:\n",
    "        # next collision is between particles\n",
    "        for timer in range(int(tc/dt)):\n",
    "            x = x+v*dt\n",
    "            \n",
    "            counter += 1\n",
    "            #save the plot\n",
    "            name = str(counter)+'.png'\n",
    "            fig = plt.figure(figsize=(10, 2))\n",
    "            plt.yticks([])\n",
    "            plt.xticks([])\n",
    "            plt.ylim([-0.1,0.1])\n",
    "            plt.xlim([0,10])\n",
    "            for p in range(N):\n",
    "                plt.scatter(x[p],0,s=250)\n",
    "            plt.savefig(path + name ,dpi=300)\n",
    "            plt.close(fig)\n",
    "            \n",
    "        #collision\n",
    "        vi = np.copy(v[i])\n",
    "        v[i] = np.copy(v[j])\n",
    "        v[j] = np.copy(vi)\n",
    "        \n",
    "        #update time\n",
    "        t += tc\n",
    "            \n",
    "    else:\n",
    "        # net collision is with the boundary\n",
    "        for timer in range(int(tb/dt)):\n",
    "            x = x+v*dt\n",
    "        \n",
    "            counter += 1\n",
    "            #save the plot\n",
    "            name = str(counter)+'.png'\n",
    "            fig = plt.figure(figsize=(10, 2))\n",
    "            plt.yticks([])\n",
    "            plt.xticks([])\n",
    "            plt.ylim([-0.1,0.1])\n",
    "            plt.xlim([0,10])\n",
    "            for p in range(N):\n",
    "                plt.scatter(x[p],0,s=250)\n",
    "            plt.savefig(path + name, dpi=300)\n",
    "            plt.close(fig)\n",
    "             \n",
    "        #collision\n",
    "        v[k] = -v[k]\n",
    "        \n",
    "        #update time\n",
    "        t += tb\n"
   ]
  },
  {
   "cell_type": "code",
   "execution_count": null,
   "metadata": {},
   "outputs": [],
   "source": []
  }
 ],
 "metadata": {
  "kernelspec": {
   "display_name": "Python3",
   "language": "python",
   "name": "python3"
  },
  "language_info": {
   "codemirror_mode": {
    "name": "ipython",
    "version": 3
   },
   "file_extension": ".py",
   "mimetype": "text/x-python",
   "name": "python",
   "nbconvert_exporter": "python",
   "pygments_lexer": "ipython3",
   "version": "3.9.10"
  }
 },
 "nbformat": 4,
 "nbformat_minor": 4
}
