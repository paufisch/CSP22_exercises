{
 "cells": [
  {
   "cell_type": "markdown",
   "id": "0d9f344c",
   "metadata": {},
   "source": [
    "# Microcanonical Monte Carlo"
   ]
  },
  {
   "cell_type": "code",
   "execution_count": 49,
   "id": "31228438",
   "metadata": {},
   "outputs": [],
   "source": [
    "import numpy as np\n",
    "from collections import Counter\n",
    "import matplotlib.pyplot as plt\n",
    "from pandas import Series\n",
    "from scipy.optimize import curve_fit\n",
    "import random as rd\n",
    "import math as math\n",
    "from timeit import default_timer as timer\n",
    "from tqdm import tqdm"
   ]
  },
  {
   "cell_type": "code",
   "execution_count": 2,
   "id": "786f6ef7",
   "metadata": {},
   "outputs": [],
   "source": [
    "\n",
    "def random_site():\n",
    "    # pick one spin at random\n",
    "    i = int(L*np.random.rand())\n",
    "    j = int(L*np.random.rand())\n",
    "    k = int(L*np.random.rand())\n",
    "    \n",
    "    return i, j, k\n",
    "    \n",
    "\n",
    "def nn_sum(x, i, j, k):\n",
    "    \"\"\"\n",
    "    Args:\n",
    "        x: Spin configuration\n",
    "        i, j, k: Lattice coordinates of the central spin\n",
    "\n",
    "    Returns:\n",
    "        Sum of the spins in x which are nearest neighbors of (i, j, k)\n",
    "    \"\"\"\n",
    "    result = x[(i+1)%L, j, k] + x[(i-1)%L, j, k]\n",
    "    result += x[i, (j+1)%L, k] + x[i, (j-1)%L, k]\n",
    "    result += x[i, j, (k+1)%L] + x[i, j, (k-1)%L]\n",
    "\n",
    "    return int(result)\n",
    "\n",
    "\n",
    "\n",
    "def increase_energy(x, M, E):\n",
    "    \"\"\"\n",
    "    Propose a spin flip update at a randomly chosen site\n",
    "    (i,j,k) and accept it only if it increases the energy.\n",
    "    \n",
    "    Args:\n",
    "        x: Spin configuration\n",
    "        M: Magnetization of x\n",
    "        E: Energy of x\n",
    "\n",
    "    Returns:\n",
    "        Updated x, M and E\n",
    "    \"\"\"\n",
    "    \n",
    "    i, j, k = random_site() # pick one spin at random\n",
    "\n",
    "    # TODO: flip the spin at site (i,j,k) if and only if the energy increases\n",
    "    # TODO: update magnetisation and energy after the flip\n",
    "    dE = 2*x[i,j,k]*nn_sum(x,i,j,k)\n",
    "    if(dE > 0):\n",
    "        M -= 2*x[i,j,k]\n",
    "        x[i,j,k] *= -1\n",
    "        E += dE        \n",
    "    \n",
    "    return x, M, E\n",
    "\n",
    "\n",
    "def move(x, M, E, Ed):\n",
    "    \"\"\"\n",
    "    Single update of the Creutz algorithm.\n",
    "    \n",
    "    Args:\n",
    "        x: Spin configuration\n",
    "        M: Magnetization of x\n",
    "        E: Energy of x\n",
    "        Ed: Demon energy\n",
    "\n",
    "    Returns:\n",
    "        Updated x, M and E, Ed after one Monte Carlo move\n",
    "    \"\"\"\n",
    "    \n",
    "    i, j, k = random_site()\n",
    "\n",
    "    # flip the spin according to the Creutz algorithm\n",
    "    # TODO: compute energy difference dE due to flipping spin at site (i,j,k)\n",
    "    # TODO: perform the Creutz step by comparing `dE` to the demon energy `Ed`\n",
    "    # TODO: update `M`, `E` and also `Ed` if the spin flip is accepted\n",
    "    dE = 2*x[i,j,k]*nn_sum(x,i,j,k)\n",
    "    if(Emax >= Ed-dE and Ed-dE >=0):\n",
    "        M -= 2*x[i,j,k]\n",
    "        x[i,j,k] *= -1\n",
    "        E += dE       \n",
    "        Ed -= dE\n",
    "    \n",
    "\n",
    "    return x, M, E, Ed\n",
    "\n",
    "\n"
   ]
  },
  {
   "cell_type": "code",
   "execution_count": 54,
   "id": "129c582c",
   "metadata": {},
   "outputs": [],
   "source": [
    "#functions for the metropolis algorithm: ##############################################\n",
    "def nn_sum_3d(grid, i, j, k):\n",
    "    \"\"\"\n",
    "    Args:\n",
    "        x: Spin configuration\n",
    "        i, j: Indices describing the position of one spin\n",
    "\n",
    "    Returns:\n",
    "        Sum of the spins in x which are nearest neighbors of (i, j)\n",
    "    \"\"\"\n",
    "    L = np.size(grid,1)\n",
    "    result = grid[(i-1)%L,j,k]+grid[(i+1)%L,j,k] #left and rigth\n",
    "    result += grid[i,(j+1)%L,k]+grid[i,(j-1)%L,k] #top and bottom\n",
    "    result += grid[i,j,(k-1)%L]+grid[i,j,(k+1)%L] # font and back\n",
    "    return int(result)\n",
    "\n",
    "\n",
    "def total_energy_3d(grid):\n",
    "    \"\"\"\n",
    "    Args:\n",
    "        x: Spin configuration\n",
    "\n",
    "    Returns:\n",
    "        Total energy of configuration x.\n",
    "    \"\"\"\n",
    "    L = np.size(grid,1)\n",
    "    energy = 0\n",
    "    for i in range(L):\n",
    "        for j in range(L):\n",
    "            for k in range(L):\n",
    "                # TODO: compute energy of site (i,j,k)\n",
    "                energy -= grid[i,j,k]*nn_sum_3d(grid,i,j,k)/2\n",
    "\t\t\t\n",
    "    return energy\n",
    "\n",
    "\n",
    "def move_3d(x, M, E, b):\n",
    "    \"\"\"\n",
    "    Args:\n",
    "        x: Spin configuration\n",
    "        M: Magnetization of x\n",
    "        E: Energy of x\n",
    "        b: inverse temperature\n",
    "\n",
    "    Returns:\n",
    "        Updated x, M and E after one Monte Carlo move\n",
    "    \"\"\"\n",
    "    # Probability look-up tables\n",
    "\t# TODO: optionally use probability lookup tables\n",
    "\t\n",
    "    # TODO: pick one site at random\n",
    "    L = np.size(x,1)\n",
    "    i, j, k = rd.randrange(L), rd.randrange(L), rd.randrange(L)\n",
    "\n",
    "    # Flip the spin of that site according to the Metropolis algorithm\n",
    "    # TODO: compute the local magnetic field at site (i,j) due to nearest-neighbours\n",
    "    \n",
    "\t# TODO: Compute the Metropolis acceptance probability `R` and compare it to a random number in [0,1)\n",
    "    ΔE = 2*x[i,j,k]*nn_sum_3d(x,i,j,k)\n",
    "    if (rd.random() < math.exp(- ΔE * b)):\n",
    "        M -= 2*x[i,j,k]\n",
    "        x[i,j,k] *= -1\n",
    "        E += ΔE\n",
    "        # TODO: flip the spin\n",
    "        # TODO: update the magnetisation and energy\n",
    "\n",
    "    return x, M, E\n",
    "\n",
    "\n",
    "def simulate_3d(L,beta,Nthermalization,Nsample,Nsubsweep):\n",
    "    \n",
    "    N = L**3\n",
    "\n",
    "    M_arr = np.zeros_like(beta) # average magnetizations\n",
    "    E_arr = np.zeros_like(beta) # average energies\n",
    "    M_err = np.zeros_like(beta) # standard deviations of the magnetizations\n",
    "    E_err = np.zeros_like(beta) # standard deviations of the energies\n",
    "    chi_arr = np.zeros_like(beta) # magnetic susceptibilities\n",
    "    cv_arr = np.zeros_like(beta) # heat capacities\n",
    "\n",
    "    # calculate the relevant physical quantities for different temperatures\n",
    "    for t in range(beta.size):\n",
    "        print('Running for inverse temperature =', beta[t])\n",
    "\n",
    "        # TODO: Generate a random initial configuration\n",
    "        # TODO: compute its magnetisation and energy\n",
    "\n",
    "        # random initial configuration\n",
    "        #x = np.random.randint(2, size=(L, L, L))*2 - 1 \n",
    "        #M = np.sum(x)\n",
    "        #E = total_energy_3d(x)\n",
    "        \n",
    "        #initila configuration with all spis pointing up\n",
    "        x = np.ones((L, L, L))\n",
    "        M = N\n",
    "        E = -3*N\n",
    "\n",
    "        # TODO: run a thermalisation loop\n",
    "        for _ in range(Nthermalization):\n",
    "            x, M, E = move_3d(x, M, E, beta[t])\n",
    "\n",
    "        # measurement of M and E\n",
    "        print(\"Sampling M and E ...\")\n",
    "\n",
    "        M_data = np.zeros(Nsample)\n",
    "        E_data = np.zeros(Nsample)\n",
    "\n",
    "        M_data[0] = np.abs(M)/N\n",
    "        E_data[0] = E/N\n",
    "\n",
    "        for n in tqdm(range(1, Nsample)):\n",
    "            for _ in range(Nsubsweep):\n",
    "                x, M, E = move_3d(x, M, E, beta[t])\n",
    "\n",
    "            M_data[n] = np.abs(M)/N\n",
    "            E_data[n] = E/N\n",
    "\n",
    "        M_arr[t] = np.mean(M_data) # average magnetization\n",
    "        E_arr[t] = np.mean(E_data) # average energy\n",
    "        # TODO: use the fluctuation dissipation to compute the \n",
    "        # specific heat and susceptibility from the M and E data\n",
    "        M_err[t] = np.var(M_data) # std. deviation of magnetization\n",
    "        E_err[t] = np.var(E_data) # std. deviation of energy\n",
    "        chi_arr[t] = M_err[t]**2*N*beta[t]\n",
    "        cv_arr[t] = E_err[t]**2*(beta[t]**2)\n",
    "        \n",
    "    return M_arr, E_arr, M_err, E_err, chi_arr, cv_arr \n",
    "\n",
    "\n",
    "\n",
    "\n"
   ]
  },
  {
   "cell_type": "markdown",
   "id": "3366beda",
   "metadata": {},
   "source": [
    "## Task 1"
   ]
  },
  {
   "cell_type": "code",
   "execution_count": 30,
   "id": "20717765",
   "metadata": {},
   "outputs": [
    {
     "name": "stdout",
     "output_type": "stream",
     "text": [
      "Energising the system...\n",
      "System reached the specified energy -648.0 !\n",
      "Running the Monte Carlo simulation at energy...\n"
     ]
    },
    {
     "name": "stderr",
     "output_type": "stream",
     "text": [
      "/Users/paul/miniconda3/lib/python3.8/site-packages/scipy/optimize/_minpack_py.py:833: OptimizeWarning: Covariance of the parameters could not be estimated\n",
      "  warnings.warn('Covariance of the parameters could not be estimated',\n"
     ]
    },
    {
     "name": "stdout",
     "output_type": "stream",
     "text": [
      "The estimated temperature of system at energy  -648.0  is  50239207.5400211\n",
      "Energising the system...\n",
      "System reached the specified energy -634.7755102040817 !\n",
      "Running the Monte Carlo simulation at energy...\n",
      "The estimated temperature of system at energy  -634.7755102040817  is  1.5230957778411385\n",
      "Energising the system...\n",
      "System reached the specified energy -621.5510204081633 !\n",
      "Running the Monte Carlo simulation at energy...\n",
      "The estimated temperature of system at energy  -621.5510204081633  is  1.731415225262015\n",
      "Energising the system...\n",
      "System reached the specified energy -608.3265306122449 !\n",
      "Running the Monte Carlo simulation at energy...\n",
      "The estimated temperature of system at energy  -608.3265306122449  is  5.630099909269061\n",
      "Energising the system...\n",
      "System reached the specified energy -595.1020408163265 !\n",
      "Running the Monte Carlo simulation at energy...\n",
      "The estimated temperature of system at energy  -595.1020408163265  is  2.507131156913822\n",
      "Energising the system...\n",
      "System reached the specified energy -581.8775510204082 !\n",
      "Running the Monte Carlo simulation at energy...\n",
      "The estimated temperature of system at energy  -581.8775510204082  is  2.176144730200945\n",
      "Energising the system...\n",
      "System reached the specified energy -568.6530612244898 !\n",
      "Running the Monte Carlo simulation at energy...\n",
      "The estimated temperature of system at energy  -568.6530612244898  is  3.041365208978088\n",
      "Energising the system...\n",
      "System reached the specified energy -555.4285714285714 !\n",
      "Running the Monte Carlo simulation at energy...\n",
      "The estimated temperature of system at energy  -555.4285714285714  is  3.077432408876179\n",
      "Energising the system...\n",
      "System reached the specified energy -542.204081632653 !\n",
      "Running the Monte Carlo simulation at energy...\n",
      "The estimated temperature of system at energy  -542.204081632653  is  3.120536574587809\n",
      "Energising the system...\n",
      "System reached the specified energy -528.9795918367347 !\n",
      "Running the Monte Carlo simulation at energy...\n",
      "The estimated temperature of system at energy  -528.9795918367347  is  3.1610983316619836\n",
      "Energising the system...\n",
      "System reached the specified energy -515.7551020408164 !\n",
      "Running the Monte Carlo simulation at energy...\n",
      "The estimated temperature of system at energy  -515.7551020408164  is  3.2555054985255714\n",
      "Energising the system...\n",
      "System reached the specified energy -502.53061224489795 !\n",
      "Running the Monte Carlo simulation at energy...\n",
      "The estimated temperature of system at energy  -502.53061224489795  is  3.353616015222689\n",
      "Energising the system...\n",
      "System reached the specified energy -489.3061224489796 !\n",
      "Running the Monte Carlo simulation at energy...\n",
      "The estimated temperature of system at energy  -489.3061224489796  is  3.4398026732568456\n",
      "Energising the system...\n",
      "System reached the specified energy -476.0816326530612 !\n",
      "Running the Monte Carlo simulation at energy...\n",
      "The estimated temperature of system at energy  -476.0816326530612  is  3.4557018410991254\n",
      "Energising the system...\n",
      "System reached the specified energy -462.8571428571429 !\n",
      "Running the Monte Carlo simulation at energy...\n",
      "The estimated temperature of system at energy  -462.8571428571429  is  3.4863817603703504\n",
      "Energising the system...\n",
      "System reached the specified energy -449.63265306122446 !\n",
      "Running the Monte Carlo simulation at energy...\n",
      "The estimated temperature of system at energy  -449.63265306122446  is  3.525997387956283\n",
      "Energising the system...\n",
      "System reached the specified energy -436.40816326530614 !\n",
      "Running the Monte Carlo simulation at energy...\n",
      "The estimated temperature of system at energy  -436.40816326530614  is  3.611040002509196\n",
      "Energising the system...\n",
      "System reached the specified energy -423.1836734693877 !\n",
      "Running the Monte Carlo simulation at energy...\n",
      "The estimated temperature of system at energy  -423.1836734693877  is  3.6374837086825886\n",
      "Energising the system...\n",
      "System reached the specified energy -409.9591836734694 !\n",
      "Running the Monte Carlo simulation at energy...\n",
      "The estimated temperature of system at energy  -409.9591836734694  is  3.6927660381242653\n",
      "Energising the system...\n",
      "System reached the specified energy -396.734693877551 !\n",
      "Running the Monte Carlo simulation at energy...\n",
      "The estimated temperature of system at energy  -396.734693877551  is  3.733691184906066\n",
      "Energising the system...\n",
      "System reached the specified energy -383.51020408163265 !\n",
      "Running the Monte Carlo simulation at energy...\n",
      "The estimated temperature of system at energy  -383.51020408163265  is  3.7690506648741895\n",
      "Energising the system...\n",
      "System reached the specified energy -370.2857142857143 !\n",
      "Running the Monte Carlo simulation at energy...\n",
      "The estimated temperature of system at energy  -370.2857142857143  is  3.8220702453930246\n",
      "Energising the system...\n",
      "System reached the specified energy -357.0612244897959 !\n",
      "Running the Monte Carlo simulation at energy...\n",
      "The estimated temperature of system at energy  -357.0612244897959  is  3.879619333058925\n",
      "Energising the system...\n",
      "System reached the specified energy -343.83673469387753 !\n",
      "Running the Monte Carlo simulation at energy...\n",
      "The estimated temperature of system at energy  -343.83673469387753  is  3.8722453282697615\n",
      "Energising the system...\n",
      "System reached the specified energy -330.61224489795916 !\n",
      "Running the Monte Carlo simulation at energy...\n",
      "The estimated temperature of system at energy  -330.61224489795916  is  3.957697096220111\n",
      "Energising the system...\n",
      "System reached the specified energy -317.3877551020408 !\n",
      "Running the Monte Carlo simulation at energy...\n",
      "The estimated temperature of system at energy  -317.3877551020408  is  3.9462389770598207\n",
      "Energising the system...\n",
      "System reached the specified energy -304.1632653061224 !\n",
      "Running the Monte Carlo simulation at energy...\n",
      "The estimated temperature of system at energy  -304.1632653061224  is  4.000297227181412\n",
      "Energising the system...\n",
      "System reached the specified energy -290.9387755102041 !\n",
      "Running the Monte Carlo simulation at energy...\n",
      "The estimated temperature of system at energy  -290.9387755102041  is  4.010100166086029\n",
      "Energising the system...\n",
      "System reached the specified energy -277.7142857142857 !\n",
      "Running the Monte Carlo simulation at energy...\n",
      "The estimated temperature of system at energy  -277.7142857142857  is  4.000139769614707\n",
      "Energising the system...\n",
      "System reached the specified energy -264.48979591836735 !\n",
      "Running the Monte Carlo simulation at energy...\n",
      "The estimated temperature of system at energy  -264.48979591836735  is  4.029407942746896\n",
      "Energising the system...\n",
      "System reached the specified energy -251.26530612244898 !\n",
      "Running the Monte Carlo simulation at energy...\n",
      "The estimated temperature of system at energy  -251.26530612244898  is  4.0364084532002735\n",
      "Energising the system...\n",
      "System reached the specified energy -238.0408163265306 !\n",
      "Running the Monte Carlo simulation at energy...\n",
      "The estimated temperature of system at energy  -238.0408163265306  is  4.04641297597572\n",
      "Energising the system...\n",
      "System reached the specified energy -224.81632653061223 !\n",
      "Running the Monte Carlo simulation at energy...\n",
      "The estimated temperature of system at energy  -224.81632653061223  is  4.079752060590321\n",
      "Energising the system...\n",
      "System reached the specified energy -211.59183673469386 !\n",
      "Running the Monte Carlo simulation at energy...\n",
      "The estimated temperature of system at energy  -211.59183673469386  is  4.0931009980168\n",
      "Energising the system...\n",
      "System reached the specified energy -198.36734693877548 !\n",
      "Running the Monte Carlo simulation at energy...\n",
      "The estimated temperature of system at energy  -198.36734693877548  is  4.130224557147957\n",
      "Energising the system...\n",
      "System reached the specified energy -185.1428571428571 !\n",
      "Running the Monte Carlo simulation at energy...\n",
      "The estimated temperature of system at energy  -185.1428571428571  is  4.243221781654989\n",
      "Energising the system...\n",
      "System reached the specified energy -171.91836734693874 !\n",
      "Running the Monte Carlo simulation at energy...\n",
      "The estimated temperature of system at energy  -171.91836734693874  is  4.4642140851526255\n",
      "Energising the system...\n",
      "System reached the specified energy -158.69387755102036 !\n",
      "Running the Monte Carlo simulation at energy...\n",
      "The estimated temperature of system at energy  -158.69387755102036  is  4.582313009984593\n",
      "Energising the system...\n",
      "System reached the specified energy -145.46938775510205 !\n",
      "Running the Monte Carlo simulation at energy...\n"
     ]
    },
    {
     "name": "stdout",
     "output_type": "stream",
     "text": [
      "The estimated temperature of system at energy  -145.46938775510205  is  4.7855205804062395\n",
      "Energising the system...\n",
      "System reached the specified energy -132.24489795918362 !\n",
      "Running the Monte Carlo simulation at energy...\n",
      "The estimated temperature of system at energy  -132.24489795918362  is  4.997508289344717\n",
      "Energising the system...\n",
      "System reached the specified energy -119.0204081632653 !\n",
      "Running the Monte Carlo simulation at energy...\n",
      "The estimated temperature of system at energy  -119.0204081632653  is  5.427797878766357\n",
      "Energising the system...\n",
      "System reached the specified energy -105.79591836734687 !\n",
      "Running the Monte Carlo simulation at energy...\n",
      "The estimated temperature of system at energy  -105.79591836734687  is  6.236352644004814\n",
      "Energising the system...\n",
      "System reached the specified energy -92.57142857142856 !\n",
      "Running the Monte Carlo simulation at energy...\n",
      "The estimated temperature of system at energy  -92.57142857142856  is  6.636100133342588\n",
      "Energising the system...\n",
      "System reached the specified energy -79.34693877551024 !\n",
      "Running the Monte Carlo simulation at energy...\n",
      "The estimated temperature of system at energy  -79.34693877551024  is  7.404912638435293\n",
      "Energising the system...\n",
      "System reached the specified energy -66.12244897959181 !\n",
      "Running the Monte Carlo simulation at energy...\n",
      "The estimated temperature of system at energy  -66.12244897959181  is  10.409850759920907\n",
      "Energising the system...\n",
      "System reached the specified energy -52.89795918367349 !\n",
      "Running the Monte Carlo simulation at energy...\n",
      "The estimated temperature of system at energy  -52.89795918367349  is  11.071727073789035\n",
      "Energising the system...\n",
      "System reached the specified energy -39.67346938775506 !\n",
      "Running the Monte Carlo simulation at energy...\n",
      "The estimated temperature of system at energy  -39.67346938775506  is  12.670340878267886\n",
      "Energising the system...\n",
      "System reached the specified energy -26.448979591836746 !\n",
      "Running the Monte Carlo simulation at energy...\n",
      "The estimated temperature of system at energy  -26.448979591836746  is  25.19418050844821\n",
      "Energising the system...\n",
      "System reached the specified energy -13.224489795918316 !\n",
      "Running the Monte Carlo simulation at energy...\n",
      "The estimated temperature of system at energy  -13.224489795918316  is  25.235818636849896\n",
      "Energising the system...\n",
      "System reached the specified energy 0.0 !\n",
      "Running the Monte Carlo simulation at energy...\n",
      "The estimated temperature of system at energy  0.0  is  5117751378.246252\n"
     ]
    }
   ],
   "source": [
    "def fit_function(Ed,T,a):\n",
    "    return a*np.exp(-Ed/T)\n",
    "\n",
    "\n",
    "L = 6 # linear size of the system\n",
    "N = L**3 # total system size\n",
    "J = 1 # coupling constant\n",
    "Nsample = 5000 # number of samples\n",
    "Nsubsweep = 3*N # number of subsweeps (3 is the safety factor)\n",
    "Esys_arr = np.linspace(-3*N, 0, 50) # array total energies of the microcanonical ensemble\n",
    "\n",
    "                                         \n",
    "Emax = 40 # maximum energy difference \n",
    "Ed = 4 # intial demon energy\n",
    "\n",
    "Ed_arr = np.zeros(Nsample*Nsubsweep) # demon energies\n",
    "T_arr = np.zeros_like(Esys_arr) # temperatures\n",
    "M_arr = np.zeros_like(Esys_arr) # average magnetizations\n",
    "E_arr = np.zeros_like(Esys_arr) # average energies\n",
    "M_err = np.zeros_like(Esys_arr) # standard deviations of the magnetizations\n",
    "E_err = np.zeros_like(Esys_arr) # standard deviations of the energies\n",
    "chi_arr = np.zeros_like(Esys_arr) # magnetic susceptibilities\n",
    "cv_arr = np.zeros_like(Esys_arr) # heat capacities\n",
    "\n",
    "for e in range(Esys_arr.size):\n",
    "    # start with uniform initial configuration\n",
    "    x = np.ones((L, L, L))\n",
    "    M = N\n",
    "    E = -3*J*N # every lattice site contributes an energy -3J\n",
    "\n",
    "    print('Energising the system...')\n",
    "    # bring the system to the specified energy\n",
    "    while (Esys_arr[e] > E):\n",
    "        x, M, E = increase_energy(x, M, E)\n",
    "    print('System reached the specified energy', Esys_arr[e], '!')\n",
    "\n",
    "    # initialise arrays holding magnetisation and energy densities\n",
    "    M_data = np.zeros(Nsample)\n",
    "    E_data = np.zeros(Nsample)\n",
    "    \n",
    "    print('Running the Monte Carlo simulation at energy...')\n",
    "    M_data[0] = np.abs(M)/N # initial magnetisation density\n",
    "    E_data[0] = E/N # initial energy density\n",
    "\n",
    "    for n in range(1, Nsample):\n",
    "        for t in range(Nsubsweep):\n",
    "            x, M, E, Ed = move(x, M, E, Ed)\n",
    "            Ed_arr[n*Nsubsweep+t] = Ed # save the demon energies\n",
    "\n",
    "        M_data[n] = np.abs(M)/N\n",
    "        E_data[n] = E/N\n",
    "\n",
    "    M_arr[e] = np.mean(M_data) # average magnetization\n",
    "    E_arr[e] = np.mean(E_data) # average energy\n",
    "    M_err[e] = np.std(M_data) # standard deviation of the magnetization\n",
    "    E_err[e] = np.std(E_data) # standard deviation of the energy\n",
    "\n",
    "\t\n",
    "    # TODO: estimate the temperature of the system from the statistics of demon energies using data `Ed_arr`\n",
    "    \n",
    "    data_entries, bins = np.histogram(Ed_arr, bins=np.size(np.unique(Ed_arr)))\n",
    "    binscenters = np.array([0.5 * (bins[i] + bins[i+1]) for i in range(len(bins)-1)])\n",
    "    popt, pcov = curve_fit(fit_function, binscenters, data_entries,p0 = [4,10**6])\n",
    "    T_arr[e] = popt[0]\n",
    "    \n",
    "    \"\"\"\n",
    "    xspace = np.linspace(0, 40, 100)\n",
    "    plt.hist(Ed_arr,log=True,bins = np.size(np.unique(Ed_arr)),label = 'data')\n",
    "    #plt.scatter(binscenters,data_entries,color ='red',label = 'data')\n",
    "    plt.plot(xspace, fit_function(xspace, *popt), color='darkorange', linewidth=2.5, label=r'Fitted function')\n",
    "    plt.ylabel(\"count\")\n",
    "    plt.xlabel(\" demon Energy $Ed$\")\n",
    "    plt.legend(loc=\"upper right\")\n",
    "    #plt.savefig(f'hist_E={Esys_arr[e]}-T={T_arr[e]}.svg'.format(T_arr[e]), format = 'svg', dpi=300)\n",
    "    plt.show()\n",
    "    \"\"\"\n",
    "    print('The estimated temperature of system at energy ', Esys_arr[e], ' is ', T_arr[e])\n",
    "    \n",
    "\t \n",
    "\n",
    "\n"
   ]
  },
  {
   "cell_type": "markdown",
   "id": "005a32fb",
   "metadata": {},
   "source": [
    "## Task 2"
   ]
  },
  {
   "cell_type": "code",
   "execution_count": 55,
   "id": "6c004628",
   "metadata": {},
   "outputs": [
    {
     "name": "stdout",
     "output_type": "stream",
     "text": [
      "Running for inverse temperature = 0.1\n",
      "Sampling M and E ...\n"
     ]
    },
    {
     "name": "stderr",
     "output_type": "stream",
     "text": [
      "100%|██████████████████████████████████████| 4999/4999 [00:10<00:00, 492.21it/s]\n"
     ]
    },
    {
     "name": "stdout",
     "output_type": "stream",
     "text": [
      "Running for inverse temperature = 0.1368421052631579\n",
      "Sampling M and E ...\n"
     ]
    },
    {
     "name": "stderr",
     "output_type": "stream",
     "text": [
      "100%|██████████████████████████████████████| 4999/4999 [00:10<00:00, 498.99it/s]\n"
     ]
    },
    {
     "name": "stdout",
     "output_type": "stream",
     "text": [
      "Running for inverse temperature = 0.1736842105263158\n",
      "Sampling M and E ...\n"
     ]
    },
    {
     "name": "stderr",
     "output_type": "stream",
     "text": [
      "100%|██████████████████████████████████████| 4999/4999 [00:09<00:00, 508.15it/s]\n"
     ]
    },
    {
     "name": "stdout",
     "output_type": "stream",
     "text": [
      "Running for inverse temperature = 0.2105263157894737\n",
      "Sampling M and E ...\n"
     ]
    },
    {
     "name": "stderr",
     "output_type": "stream",
     "text": [
      "100%|██████████████████████████████████████| 4999/4999 [00:09<00:00, 513.66it/s]\n"
     ]
    },
    {
     "name": "stdout",
     "output_type": "stream",
     "text": [
      "Running for inverse temperature = 0.2473684210526316\n",
      "Sampling M and E ...\n"
     ]
    },
    {
     "name": "stderr",
     "output_type": "stream",
     "text": [
      "100%|██████████████████████████████████████| 4999/4999 [00:09<00:00, 547.13it/s]\n"
     ]
    },
    {
     "name": "stdout",
     "output_type": "stream",
     "text": [
      "Running for inverse temperature = 0.28421052631578947\n",
      "Sampling M and E ...\n"
     ]
    },
    {
     "name": "stderr",
     "output_type": "stream",
     "text": [
      "100%|██████████████████████████████████████| 4999/4999 [00:08<00:00, 555.63it/s]\n"
     ]
    },
    {
     "name": "stdout",
     "output_type": "stream",
     "text": [
      "Running for inverse temperature = 0.32105263157894737\n",
      "Sampling M and E ...\n"
     ]
    },
    {
     "name": "stderr",
     "output_type": "stream",
     "text": [
      "100%|██████████████████████████████████████| 4999/4999 [00:08<00:00, 567.37it/s]\n"
     ]
    },
    {
     "name": "stdout",
     "output_type": "stream",
     "text": [
      "Running for inverse temperature = 0.35789473684210527\n",
      "Sampling M and E ...\n"
     ]
    },
    {
     "name": "stderr",
     "output_type": "stream",
     "text": [
      "100%|██████████████████████████████████████| 4999/4999 [00:08<00:00, 568.30it/s]\n"
     ]
    },
    {
     "name": "stdout",
     "output_type": "stream",
     "text": [
      "Running for inverse temperature = 0.39473684210526316\n",
      "Sampling M and E ...\n"
     ]
    },
    {
     "name": "stderr",
     "output_type": "stream",
     "text": [
      "100%|██████████████████████████████████████| 4999/4999 [00:08<00:00, 573.70it/s]\n"
     ]
    },
    {
     "name": "stdout",
     "output_type": "stream",
     "text": [
      "Running for inverse temperature = 0.43157894736842106\n",
      "Sampling M and E ...\n"
     ]
    },
    {
     "name": "stderr",
     "output_type": "stream",
     "text": [
      "100%|██████████████████████████████████████| 4999/4999 [00:08<00:00, 572.46it/s]\n"
     ]
    },
    {
     "name": "stdout",
     "output_type": "stream",
     "text": [
      "Running for inverse temperature = 0.46842105263157896\n",
      "Sampling M and E ...\n"
     ]
    },
    {
     "name": "stderr",
     "output_type": "stream",
     "text": [
      "100%|██████████████████████████████████████| 4999/4999 [00:08<00:00, 575.51it/s]\n"
     ]
    },
    {
     "name": "stdout",
     "output_type": "stream",
     "text": [
      "Running for inverse temperature = 0.5052631578947369\n",
      "Sampling M and E ...\n"
     ]
    },
    {
     "name": "stderr",
     "output_type": "stream",
     "text": [
      "100%|██████████████████████████████████████| 4999/4999 [00:08<00:00, 575.39it/s]\n"
     ]
    },
    {
     "name": "stdout",
     "output_type": "stream",
     "text": [
      "Running for inverse temperature = 0.5421052631578948\n",
      "Sampling M and E ...\n"
     ]
    },
    {
     "name": "stderr",
     "output_type": "stream",
     "text": [
      "100%|██████████████████████████████████████| 4999/4999 [00:08<00:00, 576.19it/s]\n"
     ]
    },
    {
     "name": "stdout",
     "output_type": "stream",
     "text": [
      "Running for inverse temperature = 0.5789473684210527\n",
      "Sampling M and E ...\n"
     ]
    },
    {
     "name": "stderr",
     "output_type": "stream",
     "text": [
      "100%|██████████████████████████████████████| 4999/4999 [00:08<00:00, 573.82it/s]\n"
     ]
    },
    {
     "name": "stdout",
     "output_type": "stream",
     "text": [
      "Running for inverse temperature = 0.6157894736842106\n",
      "Sampling M and E ...\n"
     ]
    },
    {
     "name": "stderr",
     "output_type": "stream",
     "text": [
      "100%|██████████████████████████████████████| 4999/4999 [00:08<00:00, 570.54it/s]\n"
     ]
    },
    {
     "name": "stdout",
     "output_type": "stream",
     "text": [
      "Running for inverse temperature = 0.6526315789473685\n",
      "Sampling M and E ...\n"
     ]
    },
    {
     "name": "stderr",
     "output_type": "stream",
     "text": [
      "100%|██████████████████████████████████████| 4999/4999 [00:08<00:00, 575.40it/s]\n"
     ]
    },
    {
     "name": "stdout",
     "output_type": "stream",
     "text": [
      "Running for inverse temperature = 0.6894736842105263\n",
      "Sampling M and E ...\n"
     ]
    },
    {
     "name": "stderr",
     "output_type": "stream",
     "text": [
      "100%|██████████████████████████████████████| 4999/4999 [00:08<00:00, 577.18it/s]\n"
     ]
    },
    {
     "name": "stdout",
     "output_type": "stream",
     "text": [
      "Running for inverse temperature = 0.7263157894736842\n",
      "Sampling M and E ...\n"
     ]
    },
    {
     "name": "stderr",
     "output_type": "stream",
     "text": [
      "100%|██████████████████████████████████████| 4999/4999 [00:08<00:00, 573.21it/s]\n"
     ]
    },
    {
     "name": "stdout",
     "output_type": "stream",
     "text": [
      "Running for inverse temperature = 0.7631578947368421\n",
      "Sampling M and E ...\n"
     ]
    },
    {
     "name": "stderr",
     "output_type": "stream",
     "text": [
      "100%|██████████████████████████████████████| 4999/4999 [00:08<00:00, 576.23it/s]\n"
     ]
    },
    {
     "name": "stdout",
     "output_type": "stream",
     "text": [
      "Running for inverse temperature = 0.8\n",
      "Sampling M and E ...\n"
     ]
    },
    {
     "name": "stderr",
     "output_type": "stream",
     "text": [
      "100%|██████████████████████████████████████| 4999/4999 [00:08<00:00, 572.66it/s]\n"
     ]
    }
   ],
   "source": [
    "#measure and plot the energy E the magnetization M the susceptibility chi and the heat capacity cv at different temperatures T\n",
    "L = 6 # linear size of the system\n",
    "N = L**3\n",
    "beta = np.linspace(0.1, 0.8, 20) # inverse temperatures\n",
    "Nthermalization = int(10e5) # number of thermalization steps\n",
    "Nsample = 5000 # number of samples\n",
    "Nsubsweep = 3*N # number of subsweeps (3 is the safety factor)\n",
    "\n",
    "M_arr_metr, E_arr_metr, M_err_metr, E_err_metr, chi_arr_metr, cv_arr_metr = simulate_3d(L,beta,Nthermalization,Nsample,Nsubsweep)"
   ]
  },
  {
   "cell_type": "code",
   "execution_count": 63,
   "id": "5a4efa54",
   "metadata": {},
   "outputs": [
    {
     "data": {
      "image/png": "[encoded data removed]",
      "text/plain": [
       "<Figure size 432x288 with 1 Axes>"
      ]
     },
     "metadata": {
      "needs_background": "light"
     },
     "output_type": "display_data"
    },
    {
     "data": {
      "image/png": "[encoded data removed]",
      "text/plain": [
       "<Figure size 432x288 with 1 Axes>"
      ]
     },
     "metadata": {
      "needs_background": "light"
     },
     "output_type": "display_data"
    }
   ],
   "source": [
    "#plotting E over T\n",
    "plt.figure()\n",
    "plt.scatter(1/T_arr[1:-4], E_arr[1:-4],label = \"creutz\")\n",
    "plt.scatter(beta, E_arr_metr, label = \"metropolis\")\n",
    "plt.plot(beta, E_arr_metr,color = 'orange')\n",
    "plt.xlabel(r\"inverse temperature $\\beta$\")\n",
    "plt.ylabel(r\" energy $E$\")\n",
    "plt.rcParams.update({'font.size': 18})\n",
    "plt.legend(loc=\"upper right\")\n",
    "plt.grid(True)\n",
    "plt.savefig(\"Energy_plot.svg\", format = 'svg', dpi=300)\n",
    "\n",
    "#plotting M over T\n",
    "plt.figure()\n",
    "plt.scatter(1/T_arr[1:-4], M_arr[1:-4], label = 'creutz')\n",
    "plt.scatter(beta,M_arr_metr, label = \"metropolis\")\n",
    "plt.plot(beta,M_arr_metr, color = 'orange')\n",
    "plt.xlabel(r\"inverse temperature $\\beta$\")\n",
    "plt.ylabel(r\" megnetization $M$\")\n",
    "plt.rcParams.update({'font.size': 18})\n",
    "plt.legend(loc=\"upper right\")\n",
    "plt.grid(True)\n",
    "plt.savefig(\"magnetization_plot.svg\", format = 'svg', dpi=300)"
   ]
  },
  {
   "cell_type": "code",
   "execution_count": null,
   "id": "dc82acf8",
   "metadata": {},
   "outputs": [],
   "source": []
  }
 ],
 "metadata": {
  "kernelspec": {
   "display_name": "Python 3 (ipykernel)",
   "language": "python",
   "name": "python3"
  },
  "language_info": {
   "codemirror_mode": {
    "name": "ipython",
    "version": 3
   },
   "file_extension": ".py",
   "mimetype": "text/x-python",
   "name": "python",
   "nbconvert_exporter": "python",
   "pygments_lexer": "ipython3",
   "version": "3.8.11"
  }
 },
 "nbformat": 4,
 "nbformat_minor": 5
}
